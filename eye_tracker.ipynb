{
 "cells": [
  {
   "cell_type": "code",
   "execution_count": 5,
   "metadata": {},
   "outputs": [],
   "source": [
    "\n",
    "import os\n",
    "import cv2\n",
    "import numpy as np\n",
    "import math\n",
    "from tqdm import tqdm\n",
    "import pandas as pd\n",
    "\n",
    "from face_adjustments_module import FaceAdjuster\n",
    "from face_mesh_module import FaceMeshDetector\n",
    "from definitions import *"
   ]
  },
  {
   "cell_type": "code",
   "execution_count": 15,
   "metadata": {},
   "outputs": [],
   "source": [
    "def analyseFace(image, extractor):\n",
    "    # print(\"analyseFace\")\n",
    "    row, col = image.shape[:2]\n",
    "    img_new_width = initial_image_width\n",
    "    rt = img_new_width/col\n",
    "    image = cv2.resize(image, (img_new_width, int(row*rt)))\n",
    "\n",
    "    lms = extractor.findFaceMesh(image.copy())\n",
    "    if(not lms):\n",
    "        print(\"\\nNo faces\")\n",
    "        return [], \"No Faces detected\"\n",
    "    lms = lms[0]\n",
    "    # --------------------------------------------------------------------------\n",
    "    adjuster = FaceAdjuster(image.copy(), lms)\n",
    "    _, succeed = adjuster.alignEyes()\n",
    "    if not succeed:\n",
    "        return [], adjuster.error\n",
    "    _, succeed = adjuster.alignFace()\n",
    "    if not succeed:\n",
    "        return [], adjuster.error\n",
    "    _, succeed = adjuster.faceCrop()\n",
    "    if not succeed:\n",
    "        return [], adjuster.error\n",
    "    _, succeed = adjuster.alignFace()\n",
    "    if not succeed:\n",
    "        return [], adjuster.error\n",
    "    finalImage, succeed = adjuster.fixImageSizeWitBorders()\n",
    "    if not succeed:\n",
    "        return [], adjuster.error\n",
    "\n",
    "    nlms = adjuster.getLms()\n",
    "\n",
    "    return nlms, finalImage, None"
   ]
  },
  {
   "cell_type": "code",
   "execution_count": 17,
   "metadata": {},
   "outputs": [],
   "source": [
    "def process_video(path = \"\"):\n",
    "    \n",
    "    camera = cv2.VideoCapture( str(path))\n",
    "    vfps = (camera.get(cv2.CAP_PROP_FPS))\n",
    "\n",
    "    fourcc = cv2.VideoWriter_fourcc(*'XVID')\n",
    "\n",
    "    name = path.split('/')\n",
    "    name = name[len(name)-1].split('.')\n",
    "    name = name[0]\n",
    "    try:\n",
    "        os.mkdir('./vds/prc/'+name )\n",
    "    except:\n",
    "        print(\"Diretorio ja existe\")\n",
    "    path = './vds/prc/'+name +\"/\"\n",
    "    name =  './vds/prc/'+name + '/video.avi'\n",
    "    vLength = int(camera.get(cv2.CAP_PROP_FRAME_COUNT))\n",
    "    #file = open(path+\"data.pickle\", 'rb')\n",
    "    (h,w) = int(camera.get(cv2.CAP_PROP_FRAME_WIDTH)),int(camera.get(cv2.CAP_PROP_FRAME_HEIGHT))\n",
    "    out = cv2.VideoWriter(name, fourcc,int(vfps),(h,w))\n",
    "    \n",
    "    past_positions = {\n",
    "        \"left\": [],\n",
    "        \"right\": []\n",
    "    }\n",
    "    landmarks_extractor = FaceMeshDetector()\n",
    "    for i in tqdm(range (0,vLength+1)):\n",
    "        data = {\n",
    "            \"left_eye\": {\n",
    "                \"raw\": None,\n",
    "                \"blurred\": None,\n",
    "                \"binary\": None,\n",
    "                \"histograms\":{\n",
    "                    \"rows\": None,\n",
    "                    \"columns\": None\n",
    "                },\n",
    "                \"x\": 0,\n",
    "                \"y\":0\n",
    "            },\n",
    "            \"right_eye\": {\n",
    "                \"raw\": None,\n",
    "                \"blurred\": None,\n",
    "                \"binary\": None,\n",
    "                \"histograms\":{\n",
    "                    \"rows\": None,\n",
    "                    \"columns\": None\n",
    "                },\n",
    "                \"x\": 0,\n",
    "                \"y\":0\n",
    "            }\n",
    "        }\n",
    "        ret, frame = camera.read()\n",
    "        if ret: \n",
    "            clear_image = frame.copy()\n",
    "            try:\n",
    "                lms, fimage, err = analyseFace(\n",
    "                    cv2.imread(path), landmarks_extractor)\n",
    "            except Exception as exception:\n",
    "                err = type(exception).__name__\n",
    "                print()\n",
    "                print(err)\n",
    "                break\n",
    "            cv2.imshow(\"adjusted\",fimage)\n",
    "            "
   ]
  },
  {
   "cell_type": "code",
   "execution_count": 18,
   "metadata": {},
   "outputs": [
    {
     "name": "stdout",
     "output_type": "stream",
     "text": [
      "Diretorio ja existe\n"
     ]
    },
    {
     "name": "stderr",
     "output_type": "stream",
     "text": [
      "  0%|          | 0/919 [00:00<?, ?it/s]"
     ]
    },
    {
     "name": "stdout",
     "output_type": "stream",
     "text": [
      "\n",
      "AttributeError\n"
     ]
    },
    {
     "name": "stderr",
     "output_type": "stream",
     "text": [
      "\n"
     ]
    }
   ],
   "source": [
    "process_video(path = \"./vds/raw/\"+\"rodrigo.mp4\")"
   ]
  }
 ],
 "metadata": {
  "interpreter": {
   "hash": "9f0e3f088b381fc12f4deef5d9032e31d96b60f843593956f3623569a5a617af"
  },
  "kernelspec": {
   "display_name": "Python 3.9.10 ('eye-tracking-opencv-2R_2QBtr')",
   "language": "python",
   "name": "python3"
  },
  "language_info": {
   "codemirror_mode": {
    "name": "ipython",
    "version": 3
   },
   "file_extension": ".py",
   "mimetype": "text/x-python",
   "name": "python",
   "nbconvert_exporter": "python",
   "pygments_lexer": "ipython3",
   "version": "3.9.10"
  },
  "orig_nbformat": 4
 },
 "nbformat": 4,
 "nbformat_minor": 2
}
